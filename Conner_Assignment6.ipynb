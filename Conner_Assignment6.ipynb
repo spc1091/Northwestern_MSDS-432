{
 "cells": [
  {
   "cell_type": "code",
   "execution_count": 1,
   "metadata": {},
   "outputs": [],
   "source": [
    "from numpy.random import seed\n",
    "from numpy.random import randint\n",
    "import numpy as np\n",
    "import time\n",
    "import matplotlib.pyplot as plt\n",
    "import pandas as pd\n",
    "import string, random\n",
    "from collections import deque"
   ]
  },
  {
   "cell_type": "markdown",
   "metadata": {},
   "source": [
    "In this exercise, we will begin to explore the concept of graphs and use it in a Breadth First Search.  We will begin with the base code for as described in Chapter 6 of Grokking Algorithms (Bhargava 2016).  \n",
    "\n",
    "Example code for the base algorithm is available in the GitHub site for the textbook (https://github.com/egonSchiele/grokking_algorithms/tree/master/06_breadth-first_search/python )"
   ]
  },
  {
   "cell_type": "code",
   "execution_count": 7,
   "metadata": {},
   "outputs": [],
   "source": [
    "# A modified version of the Grokking book function\n",
    "def search(name):\n",
    "    search_queue = deque()\n",
    "    search_queue += myGraph[\"initialize\"]\n",
    "    # keeps track of which people you've searched\n",
    "    searched = []\n",
    "    while search_queue:\n",
    "        person = search_queue.popleft()\n",
    "        # Only search this if you haven't already searched this person\n",
    "        if person not in searched:\n",
    "            if person == name:\n",
    "                \n",
    "                return True\n",
    "            else:\n",
    "                search_queue += myGraph[person]\n",
    "                # Marks person as searched\n",
    "                searched.append(person)\n",
    "    return False"
   ]
  },
  {
   "cell_type": "markdown",
   "metadata": {},
   "source": [
    "Our next step is to create a five level 'connections' graph (all unique, no duplicates).\n",
    "The first level will have five people and each person in first level should have five connections (they can be exclusive to one person or shared with other members on the same level, but all five should be unique, no duplicates)\n",
    "Each person in the second level will have five connections (they can be exclusive to one person or shared with other members on the same level, but all five should be unique, no duplicates)\n",
    "Likewise this will happen for the third, fourth, and fifth levels\n",
    "There should be no reverse connections (i.e. first level can connect to second level but second cannot have any reverse connection with the first, and so on for 3rd, 4th, and 5th levels)"
   ]
  },
  {
   "cell_type": "code",
   "execution_count": 8,
   "metadata": {},
   "outputs": [],
   "source": [
    "#Create graph with each subsequent level as one-way connection to the above level\n",
    "\n",
    "myGraph = {}\n",
    "# Level 0\n",
    "myGraph[\"initialize\"] = [\"Shane\", \"Joe\", \"Susie\", \"Katie\", \"Jean\"]\n",
    "# Level 1\n",
    "myGraph[\"Shane\"]  = [\"David\", \"Brandon\", \"Troy\", \"Guy\", \"Don\"]\n",
    "myGraph[\"Joe\"] = [\"David\", \"Brandon\", \"Troy\", \"Guy\", \"Don\"]\n",
    "myGraph[\"Susie\"] = [\"David\", \"Brandon\", \"Troy\", \"Guy\", \"Don\"]\n",
    "myGraph[\"Katie\"] = [\"David\", \"Brandon\", \"Troy\", \"Guy\", \"Don\"]\n",
    "myGraph[\"Jean\"] = [\"David\", \"Brandon\", \"Troy\", \"Guy\", \"Don\"]\n",
    "# Level 2\n",
    "myGraph[\"David\"] = [\"Erin\", \"Abbie\", \"Darlene\", \"Sam\", \"Claudia\"]\n",
    "myGraph[\"Brandon\"] = [\"Erin\", \"Abbie\", \"Darlene\", \"Sam\", \"Claudia\"]\n",
    "myGraph[\"Troy\"] = [\"Erin\", \"Abbie\", \"Darlene\", \"Sam\", \"Claudia\"]\n",
    "myGraph[\"Guy\"] = [\"Erin\", \"Abbie\", \"Darlene\", \"Sam\", \"Claudia\"]\n",
    "myGraph[\"Don\"] = [\"Erin\", \"Abbie\", \"Darlene\", \"Sam\", \"Claudia\"]\n",
    "# Level 3\n",
    "myGraph[\"Erin\"] = [\"Kevin\", \"Jessica\", \"Tina\", \"Maria\",  \"John\"]\n",
    "myGraph[\"Abbie\"] = [\"Kevin\", \"Jessica\", \"Tina\", \"Maria\",  \"John\"]\n",
    "myGraph[\"Darlene\"] = [\"Kevin\", \"Jessica\", \"Tina\", \"Maria\",  \"John\"]\n",
    "myGraph[\"Sam\"] = [\"Kevin\", \"Jessica\", \"Tina\", \"Maria\",  \"John\"]\n",
    "myGraph[\"Claudia\"] = [\"Kevin\", \"Jessica\", \"Tina\", \"Maria\",  \"John\"]\n",
    "# Level 4\n",
    "myGraph[\"Kevin\"] = [\"Danny\", \"Trevor\", \"Mary\", \"Mark\", \"Mike\"]\n",
    "myGraph[\"Jessica\"] = [\"Danny\", \"Trevor\", \"Mary\", \"Mark\", \"Mike\"]\n",
    "myGraph[\"Tina\"] = [\"Danny\", \"Trevor\", \"Mary\", \"Mark\", \"Mike\"]\n",
    "myGraph[\"Maria\"] = [\"Danny\", \"Trevor\", \"Mary\", \"Mark\", \"Mike\"]\n",
    "myGraph[\"John\"] = [\"Danny\", \"Trevor\", \"Mary\", \"Mark\", \"Mike\"]\n",
    "# Level 5\n",
    "myGraph[\"Danny\"] = [\"Pierce\", \"Abed\", \"Annie\", \"Brita\", \"Jeff\"]\n",
    "myGraph[\"Trevor\"] = [\"Pierce\", \"Abed\", \"Annie\", \"Brita\", \"Jeff\"]\n",
    "myGraph[\"Mary\"] = [\"Pierce\", \"Abed\", \"Annie\", \"Brita\", \"Jeff\"]\n",
    "myGraph[\"Mark\"] = [\"Pierce\", \"Abed\", \"Annie\", \"Brita\", \"Jeff\"]\n",
    "myGraph[\"Mike\"] = [\"Pierce\", \"Abed\", \"Annie\", \"Brita\", \"Jeff\"]\n",
    "# Level 6\n",
    "myGraph[\"Pierce\"] = []\n",
    "myGraph[\"Abed\"] = []\n",
    "myGraph[\"Annie\"] = []\n",
    "myGraph[\"Brita\"] = []\n",
    "myGraph[\"Jeff\"] = []"
   ]
  },
  {
   "cell_type": "markdown",
   "metadata": {},
   "source": [
    "Now we will search for three people on each level and capture the time for each search."
   ]
  },
  {
   "cell_type": "code",
   "execution_count": 12,
   "metadata": {},
   "outputs": [],
   "source": [
    "#We will run each iteration for 1000 times in order to come up with an average\n",
    "\n",
    "# Three names at level 1\n",
    "iteration = 0\n",
    "levelOneTime = 0\n",
    "\n",
    "while iteration < 1001:\n",
    "  start = time.perf_counter()\n",
    "  searchList = [\"Susie\", \"Katie\", \"Jean\"]\n",
    "  \n",
    "  stop = time.perf_counter()\n",
    "\n",
    "  levelOneTime += (stop - start) \n",
    "  iteration += 1\n",
    "\n",
    "# Three names at level 2\n",
    "iteration = 0\n",
    "levelTwoTime = 0\n",
    "searchList = [\"Troy\", \"Guy\", \"Don\"]\n",
    "\n",
    "while iteration < 1001:\n",
    "  start = time.perf_counter()\n",
    "  \n",
    "  for name in searchList:\n",
    "    search(name)\n",
    "  \n",
    "  stop = time.perf_counter()\n",
    "\n",
    "  levelTwoTime += (stop - start)\n",
    "  iteration += 1\n",
    "\n",
    "# Three names at level 3\n",
    "\n",
    "iteration = 0\n",
    "levelThreeTime = 0\n",
    "searchList = [\"Kevin\", \"Jessica\", \"Maria\"]\n",
    "\n",
    "while iteration < 1001:\n",
    "  start = time.perf_counter()\n",
    "\n",
    "  for name in searchList:\n",
    "    search(name)\n",
    "  \n",
    "  stop = time.perf_counter()\n",
    "\n",
    "  levelThreeTime += (stop - start)\n",
    "  iteration += 1\n",
    "\n",
    "\n",
    "# Three names at level 4\n",
    "searchList = [\"Danny\", \"Trevor\", \"Mary\"]\n",
    "iteration = 0\n",
    "levelFourTime = 0\n",
    "\n",
    "while iteration < 1001:\n",
    "  start = time.perf_counter()\n",
    "\n",
    "  for name in searchList:\n",
    "    search(name)\n",
    "  \n",
    "  stop = time.perf_counter()\n",
    "\n",
    "  levelFourTime += (stop - start)\n",
    "  iteration += 1\n",
    "\n",
    "# Three names at level 5\n",
    "searchList = [\"Pierce\", \"Abed\", \"Annie\"]\n",
    "iteration = 0\n",
    "levelFiveTime = 0\n",
    "\n",
    "while iteration < 1001:\n",
    "  start = time.perf_counter()\n",
    "\n",
    "  for name in searchList:\n",
    "    search(name)\n",
    "  \n",
    "  stop = time.perf_counter()\n",
    "\n",
    "  levelFiveTime += (stop - start)\n",
    "  iteration += 1"
   ]
  },
  {
   "cell_type": "markdown",
   "metadata": {},
   "source": [
    "With this complete we will organize the results of the study into an table showing the 'name' that we searched for, the level of the search (first, second, third, fourth, fifth), and the time it took."
   ]
  },
  {
   "cell_type": "code",
   "execution_count": 16,
   "metadata": {},
   "outputs": [
    {
     "data": {
      "text/html": [
       "<div>\n",
       "<style scoped>\n",
       "    .dataframe tbody tr th:only-of-type {\n",
       "        vertical-align: middle;\n",
       "    }\n",
       "\n",
       "    .dataframe tbody tr th {\n",
       "        vertical-align: top;\n",
       "    }\n",
       "\n",
       "    .dataframe thead th {\n",
       "        text-align: right;\n",
       "    }\n",
       "</style>\n",
       "<table border=\"1\" class=\"dataframe\">\n",
       "  <thead>\n",
       "    <tr style=\"text-align: right;\">\n",
       "      <th></th>\n",
       "      <th>Names Searched</th>\n",
       "      <th>Level Searched</th>\n",
       "      <th>Search Time (ms)</th>\n",
       "    </tr>\n",
       "  </thead>\n",
       "  <tbody>\n",
       "    <tr>\n",
       "      <th>0</th>\n",
       "      <td>Susie, Katie, Jean</td>\n",
       "      <td>Level 1</td>\n",
       "      <td>0.0</td>\n",
       "    </tr>\n",
       "    <tr>\n",
       "      <th>1</th>\n",
       "      <td>Troy, Guy, Don</td>\n",
       "      <td>Level 2</td>\n",
       "      <td>0.01</td>\n",
       "    </tr>\n",
       "    <tr>\n",
       "      <th>2</th>\n",
       "      <td>Kevin, Jessica, Maria</td>\n",
       "      <td>Level 3</td>\n",
       "      <td>0.032</td>\n",
       "    </tr>\n",
       "    <tr>\n",
       "      <th>3</th>\n",
       "      <td>Danny, Trevor, Mary</td>\n",
       "      <td>Level 4</td>\n",
       "      <td>0.049</td>\n",
       "    </tr>\n",
       "    <tr>\n",
       "      <th>4</th>\n",
       "      <td>Pierce, Abed, Annie</td>\n",
       "      <td>Level 5</td>\n",
       "      <td>0.07</td>\n",
       "    </tr>\n",
       "  </tbody>\n",
       "</table>\n",
       "</div>"
      ],
      "text/plain": [
       "          Names Searched Level Searched Search Time (ms)\n",
       "0     Susie, Katie, Jean        Level 1              0.0\n",
       "1         Troy, Guy, Don        Level 2             0.01\n",
       "2  Kevin, Jessica, Maria        Level 3            0.032\n",
       "3    Danny, Trevor, Mary        Level 4            0.049\n",
       "4    Pierce, Abed, Annie        Level 5             0.07"
      ]
     },
     "execution_count": 16,
     "metadata": {},
     "output_type": "execute_result"
    }
   ],
   "source": [
    "searchResults = pd.DataFrame(np.array([[\"Susie, Katie, Jean\", \"Level 1\"\n",
    "                                        , round(levelOneTime,3)]\n",
    "                                     , [\"Troy, Guy, Don\", \"Level 2\"\n",
    "                                        , round(levelTwoTime, 3)]\n",
    "                                     , [\"Kevin, Jessica, Maria\", \"Level 3\"\n",
    "                                        , round(levelThreeTime, 3)]\n",
    "                                     , [\"Danny, Trevor, Mary\", \"Level 4\"\n",
    "                                         , round(levelFourTime, 3)]\n",
    "                                     , [\"Pierce, Abed, Annie\", \"Level 5\"\n",
    "                                         , round(levelFiveTime, 3)]])\n",
    "                                     , columns = [\"Names Searched\", \"Level Searched\"\n",
    "                                         , \"Search Time (ms)\"])\n",
    "\n",
    "searchResults"
   ]
  },
  {
   "cell_type": "code",
   "execution_count": 17,
   "metadata": {},
   "outputs": [
    {
     "data": {
      "image/png": "[encoded data removed]",
      "text/plain": [
       "<Figure size 432x288 with 1 Axes>"
      ]
     },
     "metadata": {
      "needs_background": "light"
     },
     "output_type": "display_data"
    }
   ],
   "source": [
    "# Create a graph and compare times at each level \n",
    "\n",
    "plt.bar([\"Level 1\", \"Level 2\", \"Level 3\", \"Level 4\", \"Level 5\"]\n",
    "        , [levelOneTime, levelTwoTime, levelThreeTime, levelFourTime\n",
    "           , levelFiveTime])\n",
    "plt.ylabel('Average Time to Execute in Milliseconds')\n",
    "plt.suptitle('Breadth First Search Execution Time')\n",
    "plt.title('(While adding an additional name search at each level)')\n",
    "plt.show()"
   ]
  },
  {
   "cell_type": "markdown",
   "metadata": {},
   "source": [
    "Executive Summary:\n",
    "\n",
    "For this exercise we explored breadth-first search algorithms. These algorithms search nodes of the graph network along edges, so that everytime a name is searched (as long as it exists in the node), it will append all nodes connected to the name that was searched into the queue. As we can see in the graph above, as we increase the levels and complexity of the graph, our search time increases.\n",
    "\n",
    "In terms of Big O notation, this means that our search algorithm takes O(nodes + edges) in ordre to execute. Because of this, our recommendation is to use only breadth-first algorithms when we actually know what the size of the graph is. If we used these algorithms when the graph size is unknown or unlimmited, then performance will suffer. "
   ]
  }
 ],
 "metadata": {
  "kernelspec": {
   "display_name": "Python 3",
   "language": "python",
   "name": "python3"
  },
  "language_info": {
   "codemirror_mode": {
    "name": "ipython",
    "version": 3
   },
   "file_extension": ".py",
   "mimetype": "text/x-python",
   "name": "python",
   "nbconvert_exporter": "python",
   "pygments_lexer": "ipython3",
   "version": "3.7.6"
  }
 },
 "nbformat": 4,
 "nbformat_minor": 4
}
