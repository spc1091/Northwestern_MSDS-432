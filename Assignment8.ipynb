{
 "cells": [
  {
   "cell_type": "markdown",
   "metadata": {},
   "source": [
    "For this exercise, we will assume that we run a small security company that provides physical security services in the area and we recently won a new contract in the area to provide 24x7 security to a small building under construction. We have 6 security guards available at the moment who you can assign to this building but our goal is to make more money out of this contract and spend less in wages (hence greedy!). Any employee working eight hours or less is paid 15 dollars per hour, while any employee working more than 8 hours is paid 20 dollars per hour."
   ]
  },
  {
   "cell_type": "markdown",
   "metadata": {},
   "source": [
    "To begin, we will set our parameters below."
   ]
  },
  {
   "cell_type": "code",
   "execution_count": 6,
   "metadata": {},
   "outputs": [],
   "source": [
    "import numpy as np\n",
    "import pandas as pd\n",
    "\n",
    "# 24 hours that need scheduled\n",
    "hoursToSchedule = 24\n",
    "\n",
    "# wage rates\n",
    "regularWage = 15\n",
    "overWage = 20\n",
    "\n",
    "# Hold our wage rates in a list\n",
    "wages = [regularWage, overWage]\n",
    "\n",
    "# Overtime starts at > 8 hours\n",
    "overCutoff = 8\n",
    "\n",
    "# We have 6 possible employees to schedule\n",
    "numWorkers = 6"
   ]
  },
  {
   "cell_type": "markdown",
   "metadata": {},
   "source": [
    "With that complete, we will create a list for each of our workers' scheduled hours, starting with zeros for each worker. Then, we will create a loop that adds one hour to each worker's schedule until the 24 hours are fully scheduled."
   ]
  },
  {
   "cell_type": "code",
   "execution_count": 7,
   "metadata": {},
   "outputs": [
    {
     "data": {
      "text/html": [
       "<div>\n",
       "<style scoped>\n",
       "    .dataframe tbody tr th:only-of-type {\n",
       "        vertical-align: middle;\n",
       "    }\n",
       "\n",
       "    .dataframe tbody tr th {\n",
       "        vertical-align: top;\n",
       "    }\n",
       "\n",
       "    .dataframe thead th {\n",
       "        text-align: right;\n",
       "    }\n",
       "</style>\n",
       "<table border=\"1\" class=\"dataframe\">\n",
       "  <thead>\n",
       "    <tr style=\"text-align: right;\">\n",
       "      <th></th>\n",
       "      <th>Worker</th>\n",
       "      <th>Hours Scheduled</th>\n",
       "    </tr>\n",
       "  </thead>\n",
       "  <tbody>\n",
       "    <tr>\n",
       "      <th>0</th>\n",
       "      <td>Worker 1</td>\n",
       "      <td>4.0</td>\n",
       "    </tr>\n",
       "    <tr>\n",
       "      <th>1</th>\n",
       "      <td>Worker 2</td>\n",
       "      <td>4.0</td>\n",
       "    </tr>\n",
       "    <tr>\n",
       "      <th>2</th>\n",
       "      <td>Worker 3</td>\n",
       "      <td>4.0</td>\n",
       "    </tr>\n",
       "    <tr>\n",
       "      <th>3</th>\n",
       "      <td>Worker 4</td>\n",
       "      <td>4.0</td>\n",
       "    </tr>\n",
       "    <tr>\n",
       "      <th>4</th>\n",
       "      <td>Worker 5</td>\n",
       "      <td>4.0</td>\n",
       "    </tr>\n",
       "    <tr>\n",
       "      <th>5</th>\n",
       "      <td>Worker 6</td>\n",
       "      <td>4.0</td>\n",
       "    </tr>\n",
       "  </tbody>\n",
       "</table>\n",
       "</div>"
      ],
      "text/plain": [
       "     Worker  Hours Scheduled\n",
       "0  Worker 1              4.0\n",
       "1  Worker 2              4.0\n",
       "2  Worker 3              4.0\n",
       "3  Worker 4              4.0\n",
       "4  Worker 5              4.0\n",
       "5  Worker 6              4.0"
      ]
     },
     "execution_count": 7,
     "metadata": {},
     "output_type": "execute_result"
    }
   ],
   "source": [
    "# Create array to hold scheduled hours for each worker\n",
    "workers = np.zeros(numWorkers)\n",
    "\n",
    "# Set index\n",
    "i = 0\n",
    "\n",
    "# Until the total hours scheduled in the worker array equals 24, loop through\n",
    "# the array and add an hour to each worker's schedule\n",
    "while sum(workers) != hoursToSchedule:\n",
    "  workers[i] += 1\n",
    "  i = (i + 1) % len(workers)\n",
    "  \n",
    "pd.DataFrame([[\"Worker 1\", workers[0]]\n",
    "              , [\"Worker 2\", workers[1]]\n",
    "                ,[\"Worker 3\", workers[2]]\n",
    "             , [\"Worker 4\", workers[3]]\n",
    "             , [\"Worker 5\", workers[4]]\n",
    "             , [\"Worker 6\", workers[5]]]\n",
    "             , columns = [\"Worker\", \"Hours Scheduled\"])"
   ]
  },
  {
   "cell_type": "markdown",
   "metadata": {},
   "source": [
    "Next, we will determine whether our total job cost has exceeded the minimum possible. "
   ]
  },
  {
   "cell_type": "code",
   "execution_count": 8,
   "metadata": {},
   "outputs": [
    {
     "name": "stdout",
     "output_type": "stream",
     "text": [
      "The minimum possible cost for this job is $360.00\n",
      "The actual cost as scheduled is $360.00\n",
      "We have achieved an optimal solution\n"
     ]
    }
   ],
   "source": [
    "# function that will calculate the total cost of this security job\n",
    "def jobCost(workerList):\n",
    "  jobCost = 0\n",
    "  for worker in workerList:\n",
    "    if worker <= overCutoff:\n",
    "      workerPay = worker*15\n",
    "    else:\n",
    "      workerPay = (8*regularWage) + ((worker-8)*overWage)\n",
    "    jobCost += workerPay\n",
    "  return jobCost   \n",
    "   \n",
    "# If we scheduled all 24 hours at the cheapest possible wage\n",
    "minJobCost = hoursToSchedule * min(wages)\n",
    "\n",
    "print(\"The minimum possible cost for this job is $%s.00\" % minJobCost)\n",
    "print(\"The actual cost as scheduled is $%s0\" % jobCost(workers))\n",
    "\n",
    "if minJobCost == jobCost(workers):\n",
    "  print(\"We have achieved an optimal solution\")\n",
    "else:\n",
    "  print(\"We have exceeded the minimum job cost\")"
   ]
  },
  {
   "cell_type": "markdown",
   "metadata": {},
   "source": [
    "Executive Summary\n",
    "\n",
    "This is one potential solution to this problem. In the real-world there are many other factors that we could have done. For instance, if decided to have veteran employees it's possible we could have scheduled less employees and arrived at the same total job cost. \n",
    "\n",
    "All that being said, this method we used (by implementing a greedy algorithm) will arrive at the correct solution faster than trying to figure out all the possible scenarios. While that might not be easy to see in a simple example, like the one above, as soon as these problems become more complex then it will become more noticable. By moving to a greedy algorithm, we reduce the solve time from exponential time O(2^n) to linear time, O(n)."
   ]
  }
 ],
 "metadata": {
  "kernelspec": {
   "display_name": "Python 3",
   "language": "python",
   "name": "python3"
  },
  "language_info": {
   "codemirror_mode": {
    "name": "ipython",
    "version": 3
   },
   "file_extension": ".py",
   "mimetype": "text/x-python",
   "name": "python",
   "nbconvert_exporter": "python",
   "pygments_lexer": "ipython3",
   "version": "3.7.6"
  }
 },
 "nbformat": 4,
 "nbformat_minor": 4
}
