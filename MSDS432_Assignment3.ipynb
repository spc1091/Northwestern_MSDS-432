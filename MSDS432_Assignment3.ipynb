{
 "cells": [
  {
   "cell_type": "code",
   "execution_count": 2,
   "metadata": {},
   "outputs": [],
   "source": [
    "import numpy as np\n",
    "import pandas as pd\n",
    "import random\n",
    "import matplotlib.pyplot as plt\n",
    "import time\n",
    "from decimal import Decimal"
   ]
  },
  {
   "cell_type": "markdown",
   "metadata": {},
   "source": [
    "We will begin with the base code for recursion as described in Chapter 3 of Grokking Algorithms (Bhargava 2016).  https://github.com/egonSchiele/grokking_algorithms/blob/master/03_recursion/python/03_factorial.py"
   ]
  },
  {
   "cell_type": "code",
   "execution_count": 3,
   "metadata": {},
   "outputs": [],
   "source": [
    "def fact(x):\n",
    "    if x == 1:\n",
    "        return 1\n",
    "    else:\n",
    "        return x * fact(x-1)"
   ]
  },
  {
   "cell_type": "markdown",
   "metadata": {},
   "source": [
    "Next we set up an array of ten random numbers between 100 and 500 (just one array with 10 numbers)."
   ]
  },
  {
   "cell_type": "code",
   "execution_count": 4,
   "metadata": {},
   "outputs": [
    {
     "name": "stdout",
     "output_type": "stream",
     "text": [
      "[132, 150, 184, 280, 301, 319, 339, 442, 489, 498]\n"
     ]
    }
   ],
   "source": [
    "# seeding is set to 1000 for testing purposes\n",
    "\n",
    "random.seed(1000)\n",
    "myArray = random.sample(range(100, 501), 10)\n",
    "myArray.sort()\n",
    "\n",
    "\n",
    "print(myArray)"
   ]
  },
  {
   "cell_type": "markdown",
   "metadata": {},
   "source": [
    "Now we calculate the factorial of each of the numbers using a simple FOR loop. Start/end times will be captured and stored in an array, or linked list, or dictionary.  "
   ]
  },
  {
   "cell_type": "code",
   "execution_count": 5,
   "metadata": {},
   "outputs": [],
   "source": [
    "# Create function for simple for loop\n",
    "\n",
    "def simple_fact(x):\n",
    "    temp = 1\n",
    "    for x in range(1, x + 1):\n",
    "        temp = temp * x\n",
    "    return temp\n",
    "\n",
    "# Run simple_fact function and capture times\n",
    "\n",
    "time_simple_loop = []\n",
    "\n",
    "for i in range(len(myArray)):\n",
    "    start = time.perf_counter()\n",
    "    simple_fact(myArray[i])\n",
    "    end = time.perf_counter()\n",
    "    time_simple_loop.append((end - start) * 1000)"
   ]
  },
  {
   "cell_type": "markdown",
   "metadata": {},
   "source": [
    "With that completed, we will now calculate the factorial of each of the numbers using recursion.  As before, start/end times will be stored."
   ]
  },
  {
   "cell_type": "code",
   "execution_count": 6,
   "metadata": {},
   "outputs": [],
   "source": [
    "#Run grokking recursive algorithm    \n",
    "\n",
    "time_recursion = []\n",
    "\n",
    "for i in range(len(myArray)):\n",
    "    start = time.perf_counter()\n",
    "    fact(myArray[i])\n",
    "    end = time.perf_counter()\n",
    "    time_recursion.append((end - start) * 1000)"
   ]
  },
  {
   "cell_type": "markdown",
   "metadata": {},
   "source": [
    "Now we will organize the results of the study into a table showing the number, it's factorial, the time to calculate the factorial using recursion, the time to calculate factorial using FOR loop, and the difference between times."
   ]
  },
  {
   "cell_type": "code",
   "execution_count": 7,
   "metadata": {},
   "outputs": [
    {
     "data": {
      "text/html": [
       "<div>\n",
       "<style scoped>\n",
       "    .dataframe tbody tr th:only-of-type {\n",
       "        vertical-align: middle;\n",
       "    }\n",
       "\n",
       "    .dataframe tbody tr th {\n",
       "        vertical-align: top;\n",
       "    }\n",
       "\n",
       "    .dataframe thead th {\n",
       "        text-align: right;\n",
       "    }\n",
       "</style>\n",
       "<table border=\"1\" class=\"dataframe\">\n",
       "  <thead>\n",
       "    <tr style=\"text-align: right;\">\n",
       "      <th></th>\n",
       "      <th>Number</th>\n",
       "      <th>Factorial</th>\n",
       "      <th>Recursion Time</th>\n",
       "      <th>For Loop Time</th>\n",
       "      <th>Difference Between Times</th>\n",
       "    </tr>\n",
       "  </thead>\n",
       "  <tbody>\n",
       "    <tr>\n",
       "      <td>0</td>\n",
       "      <td>132</td>\n",
       "      <td>1.1182486512e+224</td>\n",
       "      <td>0.0295</td>\n",
       "      <td>0.0322</td>\n",
       "      <td>-0.0027</td>\n",
       "    </tr>\n",
       "    <tr>\n",
       "      <td>1</td>\n",
       "      <td>150</td>\n",
       "      <td>5.7133839564e+262</td>\n",
       "      <td>0.0369</td>\n",
       "      <td>0.0406</td>\n",
       "      <td>-0.0037</td>\n",
       "    </tr>\n",
       "    <tr>\n",
       "      <td>2</td>\n",
       "      <td>184</td>\n",
       "      <td>2.2283853795e+338</td>\n",
       "      <td>0.1185</td>\n",
       "      <td>0.0477</td>\n",
       "      <td>0.0708</td>\n",
       "    </tr>\n",
       "    <tr>\n",
       "      <td>3</td>\n",
       "      <td>280</td>\n",
       "      <td>1.6772277799e+565</td>\n",
       "      <td>0.1104</td>\n",
       "      <td>0.0881</td>\n",
       "      <td>0.0223</td>\n",
       "    </tr>\n",
       "    <tr>\n",
       "      <td>4</td>\n",
       "      <td>301</td>\n",
       "      <td>9.2123311177e+616</td>\n",
       "      <td>0.0783</td>\n",
       "      <td>0.0550</td>\n",
       "      <td>0.0233</td>\n",
       "    </tr>\n",
       "    <tr>\n",
       "      <td>5</td>\n",
       "      <td>319</td>\n",
       "      <td>6.6128229601e+661</td>\n",
       "      <td>0.1026</td>\n",
       "      <td>0.0575</td>\n",
       "      <td>0.0451</td>\n",
       "    </tr>\n",
       "    <tr>\n",
       "      <td>6</td>\n",
       "      <td>339</td>\n",
       "      <td>1.5002542565e+712</td>\n",
       "      <td>0.0983</td>\n",
       "      <td>0.0741</td>\n",
       "      <td>0.0242</td>\n",
       "    </tr>\n",
       "    <tr>\n",
       "      <td>7</td>\n",
       "      <td>442</td>\n",
       "      <td>1.0974001127e+979</td>\n",
       "      <td>0.1763</td>\n",
       "      <td>0.1672</td>\n",
       "      <td>0.0091</td>\n",
       "    </tr>\n",
       "    <tr>\n",
       "      <td>8</td>\n",
       "      <td>489</td>\n",
       "      <td>2.7915720098e+1104</td>\n",
       "      <td>0.2415</td>\n",
       "      <td>0.1825</td>\n",
       "      <td>0.0590</td>\n",
       "    </tr>\n",
       "    <tr>\n",
       "      <td>9</td>\n",
       "      <td>498</td>\n",
       "      <td>4.8903279599e+1128</td>\n",
       "      <td>0.1667</td>\n",
       "      <td>0.1577</td>\n",
       "      <td>0.0090</td>\n",
       "    </tr>\n",
       "  </tbody>\n",
       "</table>\n",
       "</div>"
      ],
      "text/plain": [
       "   Number           Factorial  Recursion Time  For Loop Time  \\\n",
       "0     132   1.1182486512e+224          0.0295         0.0322   \n",
       "1     150   5.7133839564e+262          0.0369         0.0406   \n",
       "2     184   2.2283853795e+338          0.1185         0.0477   \n",
       "3     280   1.6772277799e+565          0.1104         0.0881   \n",
       "4     301   9.2123311177e+616          0.0783         0.0550   \n",
       "5     319   6.6128229601e+661          0.1026         0.0575   \n",
       "6     339   1.5002542565e+712          0.0983         0.0741   \n",
       "7     442   1.0974001127e+979          0.1763         0.1672   \n",
       "8     489  2.7915720098e+1104          0.2415         0.1825   \n",
       "9     498  4.8903279599e+1128          0.1667         0.1577   \n",
       "\n",
       "   Difference Between Times  \n",
       "0                   -0.0027  \n",
       "1                   -0.0037  \n",
       "2                    0.0708  \n",
       "3                    0.0223  \n",
       "4                    0.0233  \n",
       "5                    0.0451  \n",
       "6                    0.0242  \n",
       "7                    0.0091  \n",
       "8                    0.0590  \n",
       "9                    0.0090  "
      ]
     },
     "execution_count": 7,
     "metadata": {},
     "output_type": "execute_result"
    }
   ],
   "source": [
    "# Convert factorials so we don't encounter run-time errors. \n",
    "\n",
    "factorial = []\n",
    "\n",
    "for i in range(len(myArray)):\n",
    "    factorial.append(\"{:.10e}\".format(Decimal(fact(myArray[i]))))\n",
    "\n",
    "# Calculate time differences between simple loop and recursive algorithm\n",
    "\n",
    "time_diff = np.array(time_recursion) - np.array(time_simple_loop)\n",
    "\n",
    "# Store results in dataframe and show table\n",
    "\n",
    "df = pd.DataFrame(list(zip(myArray, factorial, time_recursion, time_simple_loop, time_diff, )),\n",
    "              columns=['Number', 'Factorial', 'Recursion Time', 'For Loop Time', 'Difference Between Times'])\n",
    "\n",
    "df"
   ]
  },
  {
   "cell_type": "markdown",
   "metadata": {},
   "source": [
    "Finally we will use python matplotlib to generate a graph that has number on the horizontal axis and with execution time in milliseconds on the vertical axis. The plot shows execution times of recursion and the loop."
   ]
  },
  {
   "cell_type": "code",
   "execution_count": 8,
   "metadata": {},
   "outputs": [
    {
     "data": {
      "image/png": "[encoded data removed]",
      "text/plain": [
       "<Figure size 432x288 with 1 Axes>"
      ]
     },
     "metadata": {
      "needs_background": "light"
     },
     "output_type": "display_data"
    }
   ],
   "source": [
    "ax = plt.gca()\n",
    "\n",
    "df.plot(x='Number',y='For Loop Time',ax=ax)\n",
    "df.plot(x='Number',y='Recursion Time', ax=ax)\n",
    "plt.xlabel('Number')\n",
    "plt.ylabel('Execution Time (Milliseconds)')\n",
    "\n",
    "plt.show()"
   ]
  },
  {
   "cell_type": "markdown",
   "metadata": {},
   "source": [
    "Executive Summary\n",
    "\n",
    "In data science projects, the time that an algorithm takes to run can be the most important part of a project. Because of this, it is important to know what types of algorithms execute the fastest. While we might view \"simple\" algorithms as less important in our day-to-day work, we should never neglect the results. In terms of our project above to calculate factorials, we can see above that \"simple\" algorithm outperformed the recursive algorith.\n",
    "\n",
    "The plot above shows that the Recursive Time was longer than the simple For Loop time between in terms of milliseconds. What this means is that while recursive algorithms might be cleaner code and more easily read, the simple For Loop algorithm is what truely performs best. In terms of big O notation, both algorithms perform generally at O(n) time, but in the case of the recursive algorithm this is not always linear (as we a spike in the plot above mid-way between the numbers).\n",
    "\n",
    "As data scientists and data engineers, we should remember that what is simple is simple for a reason: it works.\n"
   ]
  }
 ],
 "metadata": {
  "kernelspec": {
   "display_name": "Python 3",
   "language": "python",
   "name": "python3"
  },
  "language_info": {
   "codemirror_mode": {
    "name": "ipython",
    "version": 3
   },
   "file_extension": ".py",
   "mimetype": "text/x-python",
   "name": "python",
   "nbconvert_exporter": "python",
   "pygments_lexer": "ipython3",
   "version": "3.7.4"
  }
 },
 "nbformat": 4,
 "nbformat_minor": 2
}
