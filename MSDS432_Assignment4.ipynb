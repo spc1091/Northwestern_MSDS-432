{
 "cells": [
  {
   "cell_type": "code",
   "execution_count": 73,
   "metadata": {},
   "outputs": [],
   "source": [
    "# Set up working environment\n",
    "import numpy as np\n",
    "import time\n",
    "import pandas as pd\n",
    "import matplotlib.pyplot as plt\n",
    "import random \n",
    "import seaborn as sns\n",
    "import string\n",
    "\n",
    "from IPython.core.interactiveshell import InteractiveShell\n",
    "InteractiveShell.ast_node_interactivity = \"all\""
   ]
  },
  {
   "cell_type": "markdown",
   "metadata": {},
   "source": [
    "For this exercise, we are comparing sort times using the quicksort method, the mergesort method, and the bubblesort method. We begin by creating these functions."
   ]
  },
  {
   "cell_type": "code",
   "execution_count": 74,
   "metadata": {},
   "outputs": [],
   "source": [
    "def quickSort(array):\n",
    "  if len(array) < 2:\n",
    "    # base case, arrays with 0 or 1 element are already \"sorted\"\n",
    "    return array\n",
    "  else:\n",
    "    # recursive case\n",
    "    pivot = array[0]\n",
    "    # sub-array of all the elements less than the pivot\n",
    "    less = [i for i in array[1:] if i <= pivot]\n",
    "    # sub-array of all the elements greater than the pivot\n",
    "    greater = [i for i in array[1:] if i > pivot]\n",
    "    return quickSort(less) + [pivot] + quickSort(greater)"
   ]
  },
  {
   "cell_type": "code",
   "execution_count": 76,
   "metadata": {},
   "outputs": [],
   "source": [
    "# Python program for implementation of MergeSort \n",
    "def mergeSort(arr): \n",
    "    if len(arr) >1: \n",
    "        mid = len(arr)//2 #Finding the mid of the array \n",
    "        L = arr[:mid] # Dividing the array elements  \n",
    "        R = arr[mid:] # into 2 halves \n",
    "  \n",
    "        mergeSort(L) # Sorting the first half \n",
    "        mergeSort(R) # Sorting the second half \n",
    "  \n",
    "        i = j = k = 0\n",
    "          \n",
    "        # Copy data to temp arrays L[] and R[] \n",
    "        while i < len(L) and j < len(R): \n",
    "            if L[i] < R[j]: \n",
    "                arr[k] = L[i] \n",
    "                i+=1\n",
    "            else: \n",
    "                arr[k] = R[j] \n",
    "                j+=1\n",
    "            k+=1\n",
    "          \n",
    "        # Checking if any element was left \n",
    "        while i < len(L): \n",
    "            arr[k] = L[i] \n",
    "            i+=1\n",
    "            k+=1\n",
    "          \n",
    "        while j < len(R): \n",
    "            arr[k] = R[j] \n",
    "            j+=1\n",
    "            k+=1\n",
    "        return arr"
   ]
  },
  {
   "cell_type": "code",
   "execution_count": 78,
   "metadata": {},
   "outputs": [],
   "source": [
    "def bubbleSort(arr):\n",
    "    n = len(arr)\n",
    " \n",
    "    # Traverse through all array elements\n",
    "    for i in range(n):\n",
    " \n",
    "        # Last i elements are already in place\n",
    "        for j in range(0, n-i-1):\n",
    " \n",
    "            # traverse the array from 0 to n-i-1\n",
    "            # Swap if the element found is greater\n",
    "            # than the next element\n",
    "            if arr[j] > arr[j+1] :\n",
    "                arr[j], arr[j+1] = arr[j+1], arr[j]\n",
    "    return arr "
   ]
  },
  {
   "cell_type": "markdown",
   "metadata": {},
   "source": [
    "Now that we have created the sorting functions, we will set the random seed to compare results across tests."
   ]
  },
  {
   "cell_type": "code",
   "execution_count": 80,
   "metadata": {},
   "outputs": [],
   "source": [
    "# Set Random Seeds\n",
    "SEED = np.random.seed(1000)\n",
    "random.seed(1000)"
   ]
  },
  {
   "cell_type": "markdown",
   "metadata": {},
   "source": [
    "With that completed, we now want to create 5 different lists of random strings, all with a length of 50 characters. We want the lists to varry in size by 200, 400, 600, 800, and 1000 in terms of length. To do this, we create a function to generate the strings."
   ]
  },
  {
   "cell_type": "code",
   "execution_count": 81,
   "metadata": {},
   "outputs": [],
   "source": [
    "# Generate random strings\n",
    "def gen_string(array_len):\n",
    "    temp1=[]\n",
    "    i=0\n",
    "    while i < array_len:\n",
    "        temp2 = ''.join(random.choice(string.ascii_lowercase) for n in range(50))\n",
    "        temp1.append(temp2)\n",
    "        i+=1\n",
    "    return temp1"
   ]
  },
  {
   "cell_type": "markdown",
   "metadata": {},
   "source": [
    "Now we run the function to create the lists for the various sizes. Afterwards we will store the data into a pandas dataframe."
   ]
  },
  {
   "cell_type": "code",
   "execution_count": 82,
   "metadata": {},
   "outputs": [],
   "source": [
    "list1 = gen_string(200)\n",
    "list2 = gen_string(400)\n",
    "list3 = gen_string(600)\n",
    "list4 = gen_string(800)\n",
    "list5 = gen_string(1000)"
   ]
  },
  {
   "cell_type": "code",
   "execution_count": 83,
   "metadata": {},
   "outputs": [],
   "source": [
    "# Store data into pandas dataframe\n",
    "df1 = pd.DataFrame({'String': list1})\n",
    "df2 = pd.DataFrame({'String': list2})\n",
    "df3 = pd.DataFrame({'String': list3})\n",
    "df4 = pd.DataFrame({'String': list4})\n",
    "df5 = pd.DataFrame({'String': list5})"
   ]
  },
  {
   "cell_type": "markdown",
   "metadata": {},
   "source": [
    "Now that we have our lists generated, we will create a function to run the different sort methods. "
   ]
  },
  {
   "cell_type": "code",
   "execution_count": 84,
   "metadata": {},
   "outputs": [],
   "source": [
    "# List of sort functions\n",
    "sorts_array = [quickSort, mergeSort, bubbleSort]\n",
    "\n",
    "# List of columns to sort\n",
    "series = ['String']\n",
    "\n",
    "# Define function to sort & store the data associated with the trials\n",
    "def run_trial(sel_array):\n",
    "    # Create an empty list to store results\n",
    "    sort_results=list([])\n",
    "    sort_strings=list([])\n",
    "    sort_timer=list([])\n",
    "    sort_num=list([])\n",
    "    \n",
    "    for i in sorts_array:\n",
    "        start = time.perf_counter() # Timestamp start\n",
    "        sort_results.append(sel_array) # Runs the algorithm\n",
    "        sort_strings.append(i.__name__) # Returns the sort method name as a string\n",
    "        end = time.perf_counter() # Timestamp finish\n",
    "        sort_timer.append(round((end - start)*1000,6)) # Convert to milliseconds \n",
    "        \n",
    "    \n",
    "    return [sort_strings, sort_timer, sort_results] # Returns what was run, the time it was run, and the output"
   ]
  },
  {
   "cell_type": "markdown",
   "metadata": {},
   "source": [
    "With that function created, we will now run the 5 different tests to see how long each one will take in terms of miliseconds."
   ]
  },
  {
   "cell_type": "code",
   "execution_count": 98,
   "metadata": {},
   "outputs": [],
   "source": [
    "# Run the first trial\n",
    "results = run_trial(df1[series[0]])\n",
    "\n",
    "# Store the performance outputs for analysis\n",
    "df_results1 = pd.DataFrame({'sort_method': results[0],\n",
    "                           'timer': results[1],\n",
    "                           'sorted_by': series[0],\n",
    "                           'length': 200})\n",
    "\n",
    "# Store the actual sorted results \n",
    "output_run1 = pd.DataFrame({results[0][0]: results[2][0],\n",
    "                          results[0][1]: results[2][1],\n",
    "                          results[0][2]: results[2][2]})"
   ]
  },
  {
   "cell_type": "code",
   "execution_count": 99,
   "metadata": {},
   "outputs": [],
   "source": [
    "# Run the second trial\n",
    "results = run_trial(df2[series[0]])\n",
    "\n",
    "# Store the performance outputs for analysis\n",
    "df_results2 = pd.DataFrame({'sort_method': results[0],\n",
    "                           'timer': results[1],\n",
    "                           'sorted_by': series[0],\n",
    "                           'length': 400})\n",
    "\n",
    "# Store the actual sorted results \n",
    "output_run2 = pd.DataFrame({results[0][0]: results[2][0],\n",
    "                          results[0][1]: results[2][1],\n",
    "                          results[0][2]: results[2][2]})"
   ]
  },
  {
   "cell_type": "code",
   "execution_count": 100,
   "metadata": {},
   "outputs": [],
   "source": [
    "# Run the third trial\n",
    "results = run_trial(df3[series[0]])\n",
    "\n",
    "# Store the performance outputs for analysis\n",
    "df_results3 = pd.DataFrame({'sort_method': results[0],\n",
    "                           'timer': results[1],\n",
    "                           'sorted_by': series[0],\n",
    "                           'length': 600})\n",
    "\n",
    "# Store the actual sorted results \n",
    "output_run3 = pd.DataFrame({results[0][0]: results[2][0],\n",
    "                          results[0][1]: results[2][1],\n",
    "                          results[0][2]: results[2][2]})\n"
   ]
  },
  {
   "cell_type": "code",
   "execution_count": 101,
   "metadata": {},
   "outputs": [],
   "source": [
    "# Run the fourth trial\n",
    "results = run_trial(df4[series[0]])\n",
    "\n",
    "# Store the performance outputs for analysis\n",
    "df_results4 = pd.DataFrame({'sort_method': results[0],\n",
    "                           'timer': results[1],\n",
    "                           'sorted_by': series[0],\n",
    "                           'length': 800})\n",
    "\n",
    "# Store the actual sorted results \n",
    "output_run4 = pd.DataFrame({results[0][0]: results[2][0],\n",
    "                          results[0][1]: results[2][1],\n",
    "                          results[0][2]: results[2][2]})\n"
   ]
  },
  {
   "cell_type": "code",
   "execution_count": 102,
   "metadata": {},
   "outputs": [],
   "source": [
    "# Run the fifth trial\n",
    "results = run_trial(df1[series[0]])\n",
    "\n",
    "# Store the performance outputs for analysis\n",
    "df_results5 = pd.DataFrame({'sort_method': results[0],\n",
    "                           'timer': results[1],\n",
    "                           'sorted_by': series[0],\n",
    "                           'length': 1000})\n",
    "\n",
    "# Store the actual sorted results \n",
    "output_run5 = pd.DataFrame({results[0][0]: results[2][0],\n",
    "                          results[0][1]: results[2][1],\n",
    "                          results[0][2]: results[2][2]})"
   ]
  },
  {
   "cell_type": "markdown",
   "metadata": {},
   "source": [
    "With all the trials ran, we will now create a dataframe to concatenate all the results together."
   ]
  },
  {
   "cell_type": "code",
   "execution_count": 103,
   "metadata": {},
   "outputs": [
    {
     "data": {
      "text/html": [
       "<div>\n",
       "<style scoped>\n",
       "    .dataframe tbody tr th:only-of-type {\n",
       "        vertical-align: middle;\n",
       "    }\n",
       "\n",
       "    .dataframe tbody tr th {\n",
       "        vertical-align: top;\n",
       "    }\n",
       "\n",
       "    .dataframe thead th {\n",
       "        text-align: right;\n",
       "    }\n",
       "</style>\n",
       "<table border=\"1\" class=\"dataframe\">\n",
       "  <thead>\n",
       "    <tr style=\"text-align: right;\">\n",
       "      <th></th>\n",
       "      <th>sort_method</th>\n",
       "      <th>timer</th>\n",
       "      <th>sorted_by</th>\n",
       "      <th>length</th>\n",
       "    </tr>\n",
       "  </thead>\n",
       "  <tbody>\n",
       "    <tr>\n",
       "      <td>0</td>\n",
       "      <td>quickSort</td>\n",
       "      <td>0.0018</td>\n",
       "      <td>String</td>\n",
       "      <td>200</td>\n",
       "    </tr>\n",
       "    <tr>\n",
       "      <td>1</td>\n",
       "      <td>mergeSort</td>\n",
       "      <td>0.0011</td>\n",
       "      <td>String</td>\n",
       "      <td>200</td>\n",
       "    </tr>\n",
       "    <tr>\n",
       "      <td>2</td>\n",
       "      <td>bubbleSort</td>\n",
       "      <td>0.0007</td>\n",
       "      <td>String</td>\n",
       "      <td>200</td>\n",
       "    </tr>\n",
       "    <tr>\n",
       "      <td>0</td>\n",
       "      <td>quickSort</td>\n",
       "      <td>0.0009</td>\n",
       "      <td>String</td>\n",
       "      <td>400</td>\n",
       "    </tr>\n",
       "    <tr>\n",
       "      <td>1</td>\n",
       "      <td>mergeSort</td>\n",
       "      <td>0.0006</td>\n",
       "      <td>String</td>\n",
       "      <td>400</td>\n",
       "    </tr>\n",
       "    <tr>\n",
       "      <td>2</td>\n",
       "      <td>bubbleSort</td>\n",
       "      <td>0.0003</td>\n",
       "      <td>String</td>\n",
       "      <td>400</td>\n",
       "    </tr>\n",
       "    <tr>\n",
       "      <td>0</td>\n",
       "      <td>quickSort</td>\n",
       "      <td>0.0014</td>\n",
       "      <td>String</td>\n",
       "      <td>600</td>\n",
       "    </tr>\n",
       "    <tr>\n",
       "      <td>1</td>\n",
       "      <td>mergeSort</td>\n",
       "      <td>0.0009</td>\n",
       "      <td>String</td>\n",
       "      <td>600</td>\n",
       "    </tr>\n",
       "    <tr>\n",
       "      <td>2</td>\n",
       "      <td>bubbleSort</td>\n",
       "      <td>0.0009</td>\n",
       "      <td>String</td>\n",
       "      <td>600</td>\n",
       "    </tr>\n",
       "    <tr>\n",
       "      <td>0</td>\n",
       "      <td>quickSort</td>\n",
       "      <td>0.0017</td>\n",
       "      <td>String</td>\n",
       "      <td>800</td>\n",
       "    </tr>\n",
       "    <tr>\n",
       "      <td>1</td>\n",
       "      <td>mergeSort</td>\n",
       "      <td>0.0010</td>\n",
       "      <td>String</td>\n",
       "      <td>800</td>\n",
       "    </tr>\n",
       "    <tr>\n",
       "      <td>2</td>\n",
       "      <td>bubbleSort</td>\n",
       "      <td>0.0009</td>\n",
       "      <td>String</td>\n",
       "      <td>800</td>\n",
       "    </tr>\n",
       "    <tr>\n",
       "      <td>0</td>\n",
       "      <td>quickSort</td>\n",
       "      <td>0.0012</td>\n",
       "      <td>String</td>\n",
       "      <td>1000</td>\n",
       "    </tr>\n",
       "    <tr>\n",
       "      <td>1</td>\n",
       "      <td>mergeSort</td>\n",
       "      <td>0.0006</td>\n",
       "      <td>String</td>\n",
       "      <td>1000</td>\n",
       "    </tr>\n",
       "    <tr>\n",
       "      <td>2</td>\n",
       "      <td>bubbleSort</td>\n",
       "      <td>0.0005</td>\n",
       "      <td>String</td>\n",
       "      <td>1000</td>\n",
       "    </tr>\n",
       "  </tbody>\n",
       "</table>\n",
       "</div>"
      ],
      "text/plain": [
       "  sort_method   timer sorted_by  length\n",
       "0   quickSort  0.0018    String     200\n",
       "1   mergeSort  0.0011    String     200\n",
       "2  bubbleSort  0.0007    String     200\n",
       "0   quickSort  0.0009    String     400\n",
       "1   mergeSort  0.0006    String     400\n",
       "2  bubbleSort  0.0003    String     400\n",
       "0   quickSort  0.0014    String     600\n",
       "1   mergeSort  0.0009    String     600\n",
       "2  bubbleSort  0.0009    String     600\n",
       "0   quickSort  0.0017    String     800\n",
       "1   mergeSort  0.0010    String     800\n",
       "2  bubbleSort  0.0009    String     800\n",
       "0   quickSort  0.0012    String    1000\n",
       "1   mergeSort  0.0006    String    1000\n",
       "2  bubbleSort  0.0005    String    1000"
      ]
     },
     "execution_count": 103,
     "metadata": {},
     "output_type": "execute_result"
    }
   ],
   "source": [
    "# Concatenate the dataframes\n",
    "df_master = pd.concat([df_results1, df_results2, df_results3, df_results4, df_results5])\n",
    "df_master"
   ]
  },
  {
   "cell_type": "code",
   "execution_count": 104,
   "metadata": {},
   "outputs": [
    {
     "data": {
      "text/plain": [
       "<matplotlib.axes._subplots.AxesSubplot at 0x1c58f16a608>"
      ]
     },
     "execution_count": 104,
     "metadata": {},
     "output_type": "execute_result"
    },
    {
     "data": {
      "image/png": "[encoded data removed]",
      "text/plain": [
       "<Figure size 504x360 with 2 Axes>"
      ]
     },
     "metadata": {
      "needs_background": "light"
     },
     "output_type": "display_data"
    }
   ],
   "source": [
    "fig, ax1 = plt.subplots(figsize=(7,5))\n",
    "ax2=ax1.twinx()\n",
    "sns.barplot(x='sort_method', y='timer', data=df_master, hue='length',ax=ax1)\n",
    "plt.show()"
   ]
  },
  {
   "cell_type": "markdown",
   "metadata": {},
   "source": [
    "Executive Summary:\n",
    "\n",
    "For this exercise we compared the sorting times for three different sort methods: Quick sort, merge sort, and bubble sort. We compared these sorting times against multiple different lists of randomly generated strings, each string being 50 characters long. As we can see in the chart above, bubble sort performed the best overall, after that merge sort performed second best and then quick sort was the worst. This does follow what we would expect in terms of Big O Notation."
   ]
  }
 ],
 "metadata": {
  "kernelspec": {
   "display_name": "Python 3",
   "language": "python",
   "name": "python3"
  },
  "language_info": {
   "codemirror_mode": {
    "name": "ipython",
    "version": 3
   },
   "file_extension": ".py",
   "mimetype": "text/x-python",
   "name": "python",
   "nbconvert_exporter": "python",
   "pygments_lexer": "ipython3",
   "version": "3.7.4"
  }
 },
 "nbformat": 4,
 "nbformat_minor": 2
}
