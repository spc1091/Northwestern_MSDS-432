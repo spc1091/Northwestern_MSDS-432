{
 "cells": [
  {
   "cell_type": "code",
   "execution_count": 1,
   "metadata": {},
   "outputs": [],
   "source": [
    "import numpy as np\n",
    "import time\n",
    "import matplotlib.pyplot as plt\n",
    "import pandas as pd\n",
    "from numpy.random import seed\n",
    "from numpy.random import randint"
   ]
  },
  {
   "cell_type": "markdown",
   "metadata": {},
   "source": [
    "To begin, we start with the base code for selection sort as described in chapter 2 of Grokking Algorithms (Bhargava 2016) which can be found here: \n",
    "https://github.com/egonSchiele/grokking_algorithms/blob/master/02_selection_sort/python/01_selection_sort.py"
   ]
  },
  {
   "cell_type": "code",
   "execution_count": 16,
   "metadata": {},
   "outputs": [],
   "source": [
    "# The Grokking code creates a function to find the smallest value in an array. That function is that called in \n",
    "# another created function to sort the array\n",
    "\n",
    "# Finds the smallest value in an array\n",
    "def findSmallest(arr):\n",
    "  # Stores the smallest value\n",
    "  smallest = arr[0]\n",
    "  # Stores the index of the smallest value\n",
    "  smallest_index = 0\n",
    "  for i in range(1, len(arr)):\n",
    "    if arr[i] < smallest:\n",
    "      smallest_index = i\n",
    "      smallest = arr[i]      \n",
    "  return smallest_index\n",
    "\n",
    "# Sort array\n",
    "def selectionSort(arr):\n",
    "    newArr = []\n",
    "    arrList = arr.tolist()\n",
    "    for i in range(len(arrList)):\n",
    "        smallest = findSmallest(arrList) #Finds the smallest in the array\n",
    "        newArr.append(arrList.pop(smallest))\n",
    "    return newArr"
   ]
  },
  {
   "cell_type": "code",
   "execution_count": 19,
   "metadata": {},
   "outputs": [],
   "source": [
    "# Create a comparison sorting method that does not use the pop function, as pop will not work on numpy arrays.\n",
    "# Our third sorting method to compare against will use the built-in sorting function in Numpy\n",
    "\n",
    "def selectionSortNumpy(arr):\n",
    "    arr = np.array(arr)\n",
    "    for i in range(len(arr)):\n",
    "        j = arr[i:].argmin()\n",
    "        arr[i], arr[i + j] = arr[i + j], arr[i]\n",
    "    return arr"
   ]
  },
  {
   "cell_type": "markdown",
   "metadata": {},
   "source": [
    "We will set up five data arrays of length 5,000, 10,000, 15,000, 20,000, and 25,000 of uniformly distributed random numbers (you may use either integers or floating point).  Ensure that a common random number seed is used to generate each of the arrays. "
   ]
  },
  {
   "cell_type": "code",
   "execution_count": 17,
   "metadata": {},
   "outputs": [],
   "source": [
    "# Per feedback, we'll use a loop rather than creating arrays one by one\n",
    "# Array sizes follow what is required....seeding is set to 1000 for testing purposes\n",
    "\n",
    "arraySizes = (5000, 10000, 15000, 20000, 25000)\n",
    "\n",
    "myArray = dict()\n",
    "\n",
    "for size in arraySizes:\n",
    "    seed(1000)\n",
    "    myArray[size] = randint(99999, size = size)"
   ]
  },
  {
   "cell_type": "markdown",
   "metadata": {},
   "source": [
    "Execute the base algorithm (Selection Sort) for each of the random number arrays, noting the execution time with each execution. Use one of the timing methods we learned in class."
   ]
  },
  {
   "cell_type": "code",
   "execution_count": 18,
   "metadata": {},
   "outputs": [],
   "source": [
    "# Will create arrays based on Grokking guide\n",
    "# Multiplies time at the end by 1000 to convert to miliseconds\n",
    "\n",
    "start = time.perf_counter()\n",
    "sort5 = selectionSort(myArray[5000])\n",
    "stop  = time.perf_counter()\n",
    "time5 = (stop - start)*1000 \n",
    "\n",
    "start = time.perf_counter()\n",
    "sort10 = selectionSort(myArray[10000])\n",
    "stop  = time.perf_counter()\n",
    "time10 = (stop - start)*1000\n",
    "\n",
    "start = time.perf_counter()\n",
    "sort15 = selectionSort(myArray[15000])\n",
    "stop = time.perf_counter()\n",
    "time15 = (stop - start)*1000\n",
    "\n",
    "start = time.perf_counter()\n",
    "sort20 = selectionSort(myArray[20000])\n",
    "stop = time.perf_counter()\n",
    "time20 = (stop - start)*1000\n",
    "\n",
    "start = time.perf_counter()\n",
    "sort25 = selectionSort(myArray[25000])\n",
    "stop = time.perf_counter()\n",
    "time25 = (stop - start)*1000"
   ]
  },
  {
   "cell_type": "code",
   "execution_count": 20,
   "metadata": {},
   "outputs": [],
   "source": [
    "# Repeating the same process but for the Numpy based sorting method\n",
    "# Multiplies time at the end by 1000 to convert to miliseconds\n",
    "\n",
    "start = time.perf_counter()\n",
    "sort5n = selectionSortNumpy(myArray[5000])\n",
    "stop = time.perf_counter()\n",
    "time5n = (stop - start)*1000\n",
    "\n",
    "start = time.perf_counter()\n",
    "sort10n = selectionSortNumpy(myArray[10000])\n",
    "stop = time.perf_counter()\n",
    "time10n = (stop - start)*1000 \n",
    "\n",
    "start = time.perf_counter()\n",
    "sort15n = selectionSortNumpy(myArray[15000])\n",
    "stop = time.perf_counter()\n",
    "time15n = (stop - start)*1000 \n",
    "\n",
    "start = time.perf_counter()\n",
    "sort20n = selectionSortNumpy(myArray[20000])\n",
    "stop = time.perf_counter()\n",
    "time20n = (stop - start)*1000 \n",
    "\n",
    "start = time.perf_counter()\n",
    "sort25n = selectionSortNumpy(myArray[25000])\n",
    "stop = time.perf_counter()\n",
    "time25n = (stop - start)*1000 "
   ]
  },
  {
   "cell_type": "code",
   "execution_count": 21,
   "metadata": {},
   "outputs": [],
   "source": [
    "# As a third comparison, let's look at the built in sort function for numpy\n",
    "# Multiplies time at the end by 1000 to convert to miliseconds\n",
    "\n",
    "start = time.perf_counter()\n",
    "sort5np = np.sort(myArray[5000])\n",
    "stop  = time.perf_counter()\n",
    "time5np = (stop - start)*1000 \n",
    "\n",
    "start = time.perf_counter()\n",
    "sort10np = np.sort(myArray[10000])\n",
    "stop  = time.perf_counter()\n",
    "time10np = (stop - start)*1000 \n",
    "\n",
    "start = time.perf_counter()\n",
    "sort15np = np.sort(myArray[15000])\n",
    "stop = time.perf_counter()\n",
    "time15np = (stop - start)*1000 \n",
    "\n",
    "start = time.perf_counter()\n",
    "sort20np = np.sort(myArray[20000])\n",
    "stop = time.perf_counter()\n",
    "time20np = (stop - start)*1000 \n",
    "\n",
    "start = time.perf_counter()\n",
    "sort25np = np.sort(myArray[25000])\n",
    "stop = time.perf_counter()\n",
    "time25np = (stop - start)*1000 "
   ]
  },
  {
   "cell_type": "markdown",
   "metadata": {},
   "source": [
    "Organize the results of the study into a table showing the size of data array and the time taken to sort the array. Discuss the differences in timing and how they relate to data type and length of array.  "
   ]
  },
  {
   "cell_type": "code",
   "execution_count": 22,
   "metadata": {},
   "outputs": [
    {
     "name": "stdout",
     "output_type": "stream",
     "text": [
      "Run times for sorting alogrithms, in milliseconds:\n"
     ]
    },
    {
     "data": {
      "text/html": [
       "<div>\n",
       "<style scoped>\n",
       "    .dataframe tbody tr th:only-of-type {\n",
       "        vertical-align: middle;\n",
       "    }\n",
       "\n",
       "    .dataframe tbody tr th {\n",
       "        vertical-align: top;\n",
       "    }\n",
       "\n",
       "    .dataframe thead th {\n",
       "        text-align: right;\n",
       "    }\n",
       "</style>\n",
       "<table border=\"1\" class=\"dataframe\">\n",
       "  <thead>\n",
       "    <tr style=\"text-align: right;\">\n",
       "      <th></th>\n",
       "      <th>0</th>\n",
       "      <th>1</th>\n",
       "      <th>2</th>\n",
       "      <th>3</th>\n",
       "    </tr>\n",
       "  </thead>\n",
       "  <tbody>\n",
       "    <tr>\n",
       "      <td>0</td>\n",
       "      <td>Array Size</td>\n",
       "      <td>Grokking Sort Time</td>\n",
       "      <td>Numpy based Sort Time</td>\n",
       "      <td>Numpy Built-In Sort Time</td>\n",
       "    </tr>\n",
       "    <tr>\n",
       "      <td>1</td>\n",
       "      <td>5000</td>\n",
       "      <td>757.6553</td>\n",
       "      <td>27.3673</td>\n",
       "      <td>17.1907</td>\n",
       "    </tr>\n",
       "    <tr>\n",
       "      <td>2</td>\n",
       "      <td>10000</td>\n",
       "      <td>2655.987</td>\n",
       "      <td>75.0317</td>\n",
       "      <td>0.568</td>\n",
       "    </tr>\n",
       "    <tr>\n",
       "      <td>3</td>\n",
       "      <td>15000</td>\n",
       "      <td>5739.5038</td>\n",
       "      <td>146.4504</td>\n",
       "      <td>1.1616</td>\n",
       "    </tr>\n",
       "    <tr>\n",
       "      <td>4</td>\n",
       "      <td>20000</td>\n",
       "      <td>9979.9511</td>\n",
       "      <td>246.5612</td>\n",
       "      <td>1.1044</td>\n",
       "    </tr>\n",
       "    <tr>\n",
       "      <td>5</td>\n",
       "      <td>25000</td>\n",
       "      <td>15506.2991</td>\n",
       "      <td>363.7408</td>\n",
       "      <td>1.4299</td>\n",
       "    </tr>\n",
       "  </tbody>\n",
       "</table>\n",
       "</div>"
      ],
      "text/plain": [
       "            0                   1                      2  \\\n",
       "0  Array Size  Grokking Sort Time  Numpy based Sort Time   \n",
       "1        5000            757.6553                27.3673   \n",
       "2       10000            2655.987                75.0317   \n",
       "3       15000           5739.5038               146.4504   \n",
       "4       20000           9979.9511               246.5612   \n",
       "5       25000          15506.2991               363.7408   \n",
       "\n",
       "                          3  \n",
       "0  Numpy Built-In Sort Time  \n",
       "1                   17.1907  \n",
       "2                     0.568  \n",
       "3                    1.1616  \n",
       "4                    1.1044  \n",
       "5                    1.4299  "
      ]
     },
     "execution_count": 22,
     "metadata": {},
     "output_type": "execute_result"
    }
   ],
   "source": [
    "results = pd.DataFrame(np.array([['Array Size', 'Grokking Sort Time', 'Numpy based Sort Time', \n",
    "                                    'Numpy Built-In Sort Time'],\n",
    "                     [5000, round(time5,6), round(time5n,6), round(time5np,6)],\n",
    "                     [10000, round(time10,6), round(time10n,6), round(time10np,6)],\n",
    "                     [15000, round(time15,6), round(time15n,6), round(time15np,6)],\n",
    "                     [20000, round(time20,6), round(time20n,6), round(time20np,6)],\n",
    "                     [25000, round(time25,6), round(time25n,6), round(time25np,6)]]))\n",
    "print(\"Run times for sorting alogrithms, in milliseconds:\")\n",
    "results"
   ]
  },
  {
   "cell_type": "markdown",
   "metadata": {},
   "source": [
    "Use Python matplotlib or Seaborn to generate a measure of the size of the data set on the horizontal axis and with execution time in milliseconds on the vertical axis. The plot should show execution time against problem size for each form of the algorithm being tested."
   ]
  },
  {
   "cell_type": "code",
   "execution_count": 24,
   "metadata": {},
   "outputs": [
    {
     "data": {
      "image/png": "[encoded data removed]",
      "text/plain": [
       "<Figure size 432x288 with 1 Axes>"
      ]
     },
     "metadata": {
      "needs_background": "light"
     },
     "output_type": "display_data"
    }
   ],
   "source": [
    "plt.plot([5000, 10000, 15000, 20000, 25000],\n",
    "        [time5, time10, time15, time20, time25],\n",
    "        'r-',\n",
    "        [5000, 10000, 15000, 20000, 25000],\n",
    "        [time5n, time10n, time15n, time20n, time25n],\n",
    "        'b-',\n",
    "        [5000, 10000, 15000, 20000, 25000],\n",
    "        [time5np, time10np, time15np, time20np, time25np],\n",
    "        'g-')\n",
    "plt.xlabel('Array Size')\n",
    "plt.ylabel('Time')\n",
    "plt.title('Execution Times of Sorting Algorithms in Milliseconds')\n",
    "plt.legend(['Grokking Sort', 'Numpy Based Sort', 'Numpy Built-In Sort'])\n",
    "plt.xticks(np.arange(5000, 30000, 5000))\n",
    "plt.show()"
   ]
  },
  {
   "cell_type": "markdown",
   "metadata": {},
   "source": [
    "Executive Summary\n",
    "\n",
    "In this exercise we compared three different sorting algorithms in terms of execution time. The first sorting algorithm we used is based on the Grokking textbook. The second sorting algorithm we used is based on the numpy library and is a simple sort. The third sorting algorithm we used is the sorting function from the numpy library: one of the most basic form of sorting we have available. To compare the sorting times, we tasked each algorithm we sorting 5 different sized arrays: 5000, 1000, 15000, 20000, and 25000.\n",
    "\n",
    "As one can see in the chart above, the Grokking algorithm performed the slowest at a Big O notation of O(n^2). The second and third sorting methods performed much better than the Grokking methodology, however the second sorting algorithm fared better than the third. The chart is skewed because of the Grokking algorithm, and it’s safe to say to the second performed substantially better than the third.\n",
    "\n",
    "High-level, this means a few things. Most importantly, we can conclude that sometimes the built-in functions in certain libraries perform better than any custom-made function we might be able to build. In other words: sometimes it’s best to use the methods that others have already created before us, rather than trying to reinvent certain functions. \n"
   ]
  }
 ],
 "metadata": {
  "kernelspec": {
   "display_name": "Python 3",
   "language": "python",
   "name": "python3"
  },
  "language_info": {
   "codemirror_mode": {
    "name": "ipython",
    "version": 3
   },
   "file_extension": ".py",
   "mimetype": "text/x-python",
   "name": "python",
   "nbconvert_exporter": "python",
   "pygments_lexer": "ipython3",
   "version": "3.7.4"
  }
 },
 "nbformat": 4,
 "nbformat_minor": 2
}
