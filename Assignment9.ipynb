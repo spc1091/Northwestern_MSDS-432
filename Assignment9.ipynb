{
 "cells": [
  {
   "cell_type": "markdown",
   "metadata": {},
   "source": [
    "For this assignment, we decided to look at the optimal strategy for a game exercise located here: https://www.geeksforgeeks.org/optimal-strategy-for-a-game-dp-31/"
   ]
  },
  {
   "cell_type": "markdown",
   "metadata": {},
   "source": [
    "To begin, we create a function to optimaly solve a strategy game."
   ]
  },
  {
   "cell_type": "code",
   "execution_count": 8,
   "metadata": {},
   "outputs": [],
   "source": [
    " def optimalStrategyOfGame(arr, n): \n",
    "      \n",
    "    # Create a table to store  \n",
    "    # solutions of subproblems  \n",
    "    table = [[0 for i in range(n)] \n",
    "                for i in range(n)] \n",
    "  \n",
    "    # Fill table using above recursive  \n",
    "    # formula. Note that the table is  \n",
    "    # filled in diagonal fashion  \n",
    "    # (similar to http://goo.gl / PQqoS), \n",
    "    # from diagonal elements to \n",
    "    # table[0][n-1] which is the result.  \n",
    "    for gap in range(n): \n",
    "        for j in range(gap, n): \n",
    "            i = j - gap \n",
    "              \n",
    "            # Here x is value of F(i + 2, j),  \n",
    "            # y is F(i + 1, j-1) and z is  \n",
    "            # F(i, j-2) in above recursive  \n",
    "            # formula  \n",
    "            x = 0\n",
    "            if((i + 2) <= j): \n",
    "                x = table[i + 2][j] \n",
    "            y = 0\n",
    "            if((i + 1) <= (j - 1)): \n",
    "                y = table[i + 1][j - 1] \n",
    "            z = 0\n",
    "            if(i <= (j - 2)): \n",
    "                z = table[i][j - 2] \n",
    "            table[i][j] = max(arr[i] + min(x, y), \n",
    "                              arr[j] + min(y, z)) \n",
    "    return table[0][n - 1] "
   ]
  },
  {
   "cell_type": "markdown",
   "metadata": {},
   "source": [
    "With the code complete, we will now look to solve the game given 3 different scenarios"
   ]
  },
  {
   "cell_type": "code",
   "execution_count": 5,
   "metadata": {},
   "outputs": [
    {
     "name": "stdout",
     "output_type": "stream",
     "text": [
      "22\n"
     ]
    }
   ],
   "source": [
    "arr1 = [ 8, 15, 3, 7 ] \n",
    "n = len(arr1) \n",
    "print(optimalStrategyOfGame(arr1, n)) "
   ]
  },
  {
   "cell_type": "code",
   "execution_count": 6,
   "metadata": {},
   "outputs": [
    {
     "name": "stdout",
     "output_type": "stream",
     "text": [
      "4\n"
     ]
    }
   ],
   "source": [
    "arr2 = [ 2, 2, 2, 2 ] \n",
    "n = len(arr2) \n",
    "print(optimalStrategyOfGame(arr2, n)) "
   ]
  },
  {
   "cell_type": "code",
   "execution_count": 7,
   "metadata": {},
   "outputs": [
    {
     "name": "stdout",
     "output_type": "stream",
     "text": [
      "42\n"
     ]
    }
   ],
   "source": [
    "arr3 = [ 20, 30, 2, 2, 2, 10] \n",
    "n = len(arr3) \n",
    "print(optimalStrategyOfGame(arr3, n)) "
   ]
  },
  {
   "cell_type": "markdown",
   "metadata": {},
   "source": [
    "Executive Summary\n",
    "\n",
    "Dynamic programming allows us to have a low-cost way to solve complex issues. Most time, these issues can be broken down into discrete problems that allow dymanic programming solutions to help.\n",
    "\n",
    "In terms of Big O notation, this algorithm performs at O(n) - The time related to the strategy score that is being sought.\n"
   ]
  }
 ],
 "metadata": {
  "kernelspec": {
   "display_name": "Python 3",
   "language": "python",
   "name": "python3"
  },
  "language_info": {
   "codemirror_mode": {
    "name": "ipython",
    "version": 3
   },
   "file_extension": ".py",
   "mimetype": "text/x-python",
   "name": "python",
   "nbconvert_exporter": "python",
   "pygments_lexer": "ipython3",
   "version": "3.7.6"
  }
 },
 "nbformat": 4,
 "nbformat_minor": 4
}
