{
 "cells": [
  {
   "cell_type": "code",
   "execution_count": 31,
   "metadata": {},
   "outputs": [],
   "source": [
    "from numpy.random import seed\n",
    "from numpy.random import randint\n",
    "import numpy as np\n",
    "import time\n",
    "import matplotlib.pyplot as plt\n",
    "import pandas as pd\n",
    "import string, random"
   ]
  },
  {
   "cell_type": "markdown",
   "metadata": {},
   "source": [
    "For this exercise, we will be comparing search times on various data structures. To begin, we will create our first data structure: a simple array of 100,000 different random strings (all with a length of 10 characters). "
   ]
  },
  {
   "cell_type": "code",
   "execution_count": 32,
   "metadata": {},
   "outputs": [
    {
     "data": {
      "text/plain": [
       "False"
      ]
     },
     "execution_count": 32,
     "metadata": {},
     "output_type": "execute_result"
    }
   ],
   "source": [
    "#Create the series of 100,000 different random names\n",
    "series = np.array([])\n",
    "\n",
    "while len(series) <= 100000:\n",
    "    series = np.append(series, ''.join(random.sample(string.ascii_lowercase,10)).capitalize())\n",
    "\n",
    "    \n",
    "#Make sure there are no duplicates\n",
    "def contains_duplicates(X):\n",
    "    return len(np.unique(X)) != len(X)\n",
    "\n",
    "contains_duplicates(series)"
   ]
  },
  {
   "cell_type": "markdown",
   "metadata": {},
   "source": [
    "Now we want to store the list of random generated names in a set  (https://docs.python.org/3.7/library/stdtypes.html)."
   ]
  },
  {
   "cell_type": "code",
   "execution_count": 33,
   "metadata": {},
   "outputs": [],
   "source": [
    "names_set = set(series)"
   ]
  },
  {
   "cell_type": "markdown",
   "metadata": {},
   "source": [
    "With that completed, we will now make a seperate copy of the list and sort it using any of the sorting algorithms that we have learned so far. For this exercise, I am using the simple sort function that is native to the numpy library. In our research from Assignment 2, we learned that the numpy built-in sort function was the fastest in terms of milliseconds."
   ]
  },
  {
   "cell_type": "code",
   "execution_count": 34,
   "metadata": {},
   "outputs": [],
   "source": [
    "#Sort using numpy sort function\n",
    "start = time.perf_counter()\n",
    "names_srt = np.sort(series)\n",
    "stop = time.perf_counter()\n",
    "srttime = (stop - start)"
   ]
  },
  {
   "cell_type": "markdown",
   "metadata": {},
   "source": [
    "Now we will pick the names from the unsorted array that are at the 10,000th, 30,000th, 50,000th, 70,000th, 90,000th, and 100,000th positions, and store them in a temporary array somewhere for later use."
   ]
  },
  {
   "cell_type": "code",
   "execution_count": 35,
   "metadata": {},
   "outputs": [
    {
     "data": {
      "text/plain": [
       "array(['Lnjuvbsyco', 'Newjytsafh', 'Gltrswizop', 'Wqijvcfhde',\n",
       "       'Ocysagvhnu', 'Fvaqjkyznu'], dtype='<U32')"
      ]
     },
     "execution_count": 35,
     "metadata": {},
     "output_type": "execute_result"
    }
   ],
   "source": [
    "#Since we're selecting by position, not index, we'll subtract 1 from each\n",
    "IndexPos = [9999,29999,49999,69999, 89999, 99999] \n",
    "PickNames = np.take(series, IndexPos)\n",
    "PickNames"
   ]
  },
  {
   "cell_type": "markdown",
   "metadata": {},
   "source": [
    "Next we will search for these six names in each of the collections.  For the unsorted list we will be using a linear search, for the sorted list we will use the binary search, and we will use the in keyword builtin for the set.  "
   ]
  },
  {
   "cell_type": "code",
   "execution_count": 36,
   "metadata": {},
   "outputs": [
    {
     "data": {
      "text/plain": [
       "0.12416179889999966"
      ]
     },
     "execution_count": 36,
     "metadata": {},
     "output_type": "execute_result"
    }
   ],
   "source": [
    "# For the linear search, we first have to create the function\n",
    "def search(arr, x): \n",
    "\n",
    "    for i in range(len(arr)): \n",
    "\n",
    "        if arr[i] == x: \n",
    "            return i \n",
    "\n",
    "    return -1\n",
    "\n",
    "# We will run this search 1000 times and take the average for the time\n",
    "start = time.perf_counter()\n",
    "for i in range(1000):\n",
    "    for term in PickNames:\n",
    "        answer = search(series, term)\n",
    "stop = time.perf_counter()\n",
    "SimpleSearchTime = (stop - start)/1000\n",
    "\n",
    "SimpleSearchTime"
   ]
  },
  {
   "cell_type": "code",
   "execution_count": 37,
   "metadata": {},
   "outputs": [
    {
     "data": {
      "text/plain": [
       "0.16213588399999934"
      ]
     },
     "execution_count": 37,
     "metadata": {},
     "output_type": "execute_result"
    }
   ],
   "source": [
    "#For the Binary Search, we first have to create the function\n",
    "\n",
    "def binarySearch(list, item):\n",
    "    low = 0\n",
    "    high = len(list) - 1\n",
    "    \n",
    "    while low <= high:\n",
    "        mid = (low + high)\n",
    "        guess = list[mid]\n",
    "        if guess == item:\n",
    "            return mid\n",
    "        if guess > item:\n",
    "            high = mid - 1\n",
    "        else:\n",
    "            low = mid + 1\n",
    "    return None\n",
    "\n",
    "# We will run this search 1000 times and take the average for the time\n",
    "start = time.perf_counter()\n",
    "for i in range(1000):\n",
    "    for item in PickNames:\n",
    "        binarySearch(names_srt, item)\n",
    "stop = time.perf_counter()\n",
    "\n",
    "BinarySearchTime = (stop - start)/1000\n",
    "\n",
    "BinarySearchTime"
   ]
  },
  {
   "cell_type": "code",
   "execution_count": 38,
   "metadata": {},
   "outputs": [
    {
     "data": {
      "text/plain": [
       "2.764500000012049e-06"
      ]
     },
     "execution_count": 38,
     "metadata": {},
     "output_type": "execute_result"
    }
   ],
   "source": [
    "# For the set search, we will use the IN keyword builtin for the set. Again, we will run this 1000 times.\n",
    "start = time.perf_counter()\n",
    "for i in range(1000):\n",
    "    [x for x in PickNames if x in names_set]\n",
    "stop = time.perf_counter()\n",
    "\n",
    "SetSearchTime = (stop - start)/1000\n",
    "\n",
    "SetSearchTime"
   ]
  },
  {
   "cell_type": "markdown",
   "metadata": {},
   "source": [
    "With that finished, we will now store the results in a table to report on and will visualize the results in a graph."
   ]
  },
  {
   "cell_type": "code",
   "execution_count": 46,
   "metadata": {},
   "outputs": [
    {
     "name": "stdout",
     "output_type": "stream",
     "text": [
      "Measuring Search Performance, in milliseconds:\n"
     ]
    },
    {
     "data": {
      "text/html": [
       "<div>\n",
       "<style scoped>\n",
       "    .dataframe tbody tr th:only-of-type {\n",
       "        vertical-align: middle;\n",
       "    }\n",
       "\n",
       "    .dataframe tbody tr th {\n",
       "        vertical-align: top;\n",
       "    }\n",
       "\n",
       "    .dataframe thead th {\n",
       "        text-align: right;\n",
       "    }\n",
       "</style>\n",
       "<table border=\"1\" class=\"dataframe\">\n",
       "  <thead>\n",
       "    <tr style=\"text-align: right;\">\n",
       "      <th></th>\n",
       "      <th>0</th>\n",
       "      <th>1</th>\n",
       "    </tr>\n",
       "  </thead>\n",
       "  <tbody>\n",
       "    <tr>\n",
       "      <th>0</th>\n",
       "      <td>Sort Method</td>\n",
       "      <td>Time</td>\n",
       "    </tr>\n",
       "    <tr>\n",
       "      <th>1</th>\n",
       "      <td>Linear Search</td>\n",
       "      <td>0.124162</td>\n",
       "    </tr>\n",
       "    <tr>\n",
       "      <th>2</th>\n",
       "      <td>Binary Search</td>\n",
       "      <td>0.162136</td>\n",
       "    </tr>\n",
       "    <tr>\n",
       "      <th>3</th>\n",
       "      <td>Set Search</td>\n",
       "      <td>3e-06</td>\n",
       "    </tr>\n",
       "  </tbody>\n",
       "</table>\n",
       "</div>"
      ],
      "text/plain": [
       "               0         1\n",
       "0    Sort Method      Time\n",
       "1  Linear Search  0.124162\n",
       "2  Binary Search  0.162136\n",
       "3     Set Search     3e-06"
      ]
     },
     "execution_count": 46,
     "metadata": {},
     "output_type": "execute_result"
    }
   ],
   "source": [
    "df_results = pd.DataFrame(np.array([['Sort Method', 'Time'],\n",
    "                     ['Linear Search', round(SimpleSearchTime,6)],\n",
    "                     ['Binary Search', round(BinarySearchTime,6)],\n",
    "                     ['Set Search', round(SetSearchTime,6)]]))\n",
    "\n",
    "print(\"Measuring Search Performance, in milliseconds:\")\n",
    "df_results"
   ]
  },
  {
   "cell_type": "code",
   "execution_count": 40,
   "metadata": {},
   "outputs": [
    {
     "data": {
      "image/png": "[encoded data removed]",
      "text/plain": [
       "<Figure size 432x288 with 1 Axes>"
      ]
     },
     "metadata": {},
     "output_type": "display_data"
    }
   ],
   "source": [
    "objects = ('Linear Search', 'Binary Search', 'Set Search')\n",
    "y_pos = np.arange(len(objects))\n",
    "performance = [SimpleSearchTime,BinarySearchTime, SetSearchTime]\n",
    " \n",
    "plt.bar(y_pos, performance, align='center', alpha=0.5)\n",
    "plt.xticks(y_pos, objects)\n",
    "plt.ylabel('Average Time to Execute')\n",
    "plt.title('Measuring Search Performance')\n",
    "plt.style.use('seaborn-colorblind')\n",
    " \n",
    "plt.show()"
   ]
  },
  {
   "cell_type": "markdown",
   "metadata": {},
   "source": [
    "Executive Summary:\n",
    "\n",
    "In this exercise we compared search times on various data structures using differing algorithms. To test these searches out, we generated a list of 100,000 random names and then performed the searches on these lists. We stored the list of names in an unsorted and a sorted array, along with using the set format hash table. \n",
    "\n",
    "With that finished, we then performed our searching algorithms on the different data structures. For the unsorted array, we used a linear search. For the sorted array we used a binary search. Finally for the set, we used the builtin function in the set. \n",
    "\n",
    "The results above and the graph show just how powerful the hash table was in searching. Since hash table structures map the names to a number value, performing a search task on that number value is extremely quick to complete. Thus, if a search needs to be performed on stored data, we recommend using hash tables to store the data before performing the search."
   ]
  }
 ],
 "metadata": {
  "kernelspec": {
   "display_name": "Python 3",
   "language": "python",
   "name": "python3"
  },
  "language_info": {
   "codemirror_mode": {
    "name": "ipython",
    "version": 3
   },
   "file_extension": ".py",
   "mimetype": "text/x-python",
   "name": "python",
   "nbconvert_exporter": "python",
   "pygments_lexer": "ipython3",
   "version": "3.6.5"
  }
 },
 "nbformat": 4,
 "nbformat_minor": 2
}
