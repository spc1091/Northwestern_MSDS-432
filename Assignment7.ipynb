{
 "cells": [
  {
   "cell_type": "markdown",
   "metadata": {},
   "source": [
    "In this exercise, we will explore Dijkstra's Algorithm in terms of hash maps and computational complexity.  The base code is described in Chapter 7 of Grokking Algorithms (Bhargava 2016).  \n",
    "\n",
    "https://github.com/egonSchiele/grokking_algorithms/blob/master/07_dijkstras_algorithm/python/01_dijkstras_algorithm.py"
   ]
  },
  {
   "cell_type": "code",
   "execution_count": null,
   "metadata": {},
   "outputs": [],
   "source": [
    "from matplotlib import pyplot as plt"
   ]
  },
  {
   "cell_type": "markdown",
   "metadata": {},
   "source": [
    "To begin, we'll initalize each of our nodes for the graph"
   ]
  },
  {
   "cell_type": "code",
   "execution_count": 14,
   "metadata": {},
   "outputs": [],
   "source": [
    "graph = {}\n",
    "graph['NYC'] = {}\n",
    "graph['DC'] = {}\n",
    "graph['Atlanta'] = {}\n",
    "graph['New Orleans'] = {}\n",
    "graph['Dallas'] = {}\n",
    "graph['Indianapolis'] = {}\n",
    "graph['Kansas City'] = {}\n",
    "graph['Denver'] = {}\n",
    "graph['Pittsburgh'] = {}\n",
    "graph['Cincinatti'] = {}\n",
    "graph['St Louis'] = {}\n",
    "graph['OK City'] = {}\n",
    "graph['Alburqurque'] = {}\n",
    "graph['Salt Lake City'] = {}\n",
    "graph['Phoenix'] = {}\n",
    "graph['Las Vegas'] = {}\n",
    "graph['San Diego'] = {}\n",
    "graph['Los Angeles'] = {}"
   ]
  },
  {
   "cell_type": "markdown",
   "metadata": {},
   "source": [
    "Next, we'll add the neighbor relationships"
   ]
  },
  {
   "cell_type": "code",
   "execution_count": 15,
   "metadata": {},
   "outputs": [],
   "source": [
    "graph['NYC']['DC'] = 2\n",
    "graph['NYC']['Pittsburgh'] = 7\n",
    "graph['NYC']['Indianapolis'] = 11\n",
    "\n",
    "graph['DC']['Atlanta'] = 2\n",
    "graph['Atlanta']['New Orleans'] = 2\n",
    "graph['New Orleans']['Dallas'] = 2\n",
    "graph['Dallas']['Alburqurque'] = 2\n",
    "graph['Alburqurque']['Phoenix'] = 2\n",
    "graph['Phoenix']['Las Vegas'] = 2\n",
    "graph['Phoenix']['San Diego'] = 5\n",
    "graph['San Diego']['Los Angeles'] = 2\n",
    "graph['Las Vegas']['San Diego'] = 2\n",
    "graph['Las Vegas']['Los Angeles'] = 5\n",
    "\n",
    "graph['Indianapolis']['Kansas City'] = 8\n",
    "graph['Kansas City']['Denver'] = 7\n",
    "graph['Denver']['Salt Lake City'] = 6\n",
    "graph['Salt Lake City']['Las Vegas'] = 9\n",
    "\n",
    "graph['Pittsburgh']['Cincinatti'] = 6\n",
    "graph['Cincinatti']['St Louis'] = 8\n",
    "graph['St Louis']['OK City'] = 7\n",
    "graph['OK City']['Alburqurque'] = 9"
   ]
  },
  {
   "cell_type": "markdown",
   "metadata": {},
   "source": [
    "With that complete, we'll next create the cost table. The cost for every node except DC, Pittsburgh, and Indianapolis will be set to infinity. The algorithm will figure out the true cost."
   ]
  },
  {
   "cell_type": "code",
   "execution_count": 16,
   "metadata": {},
   "outputs": [],
   "source": [
    "infinity = float(\"inf\")\n",
    "\n",
    "costs = {}\n",
    "\n",
    "costs['DC'] = 2\n",
    "costs['Atlanta'] = infinity\n",
    "costs['New Orleans'] = infinity\n",
    "costs['Dallas'] = infinity\n",
    "costs['Indianapolis'] = 11\n",
    "costs['Kansas City'] = infinity\n",
    "costs['Denver'] = infinity\n",
    "costs['Pittsburgh'] = 7\n",
    "costs['Cincinatti'] = infinity\n",
    "costs['St Louis'] = infinity\n",
    "costs['OK City'] = infinity\n",
    "costs['Alburqurque'] = infinity\n",
    "costs['Salt Lake City'] = infinity\n",
    "costs['Phoenix'] = infinity\n",
    "costs['Las Vegas'] = infinity\n",
    "costs['San Diego'] = infinity\n",
    "costs['Los Angeles'] = infinity"
   ]
  },
  {
   "cell_type": "markdown",
   "metadata": {},
   "source": [
    "Now we will create a table to hold the parents. DC, Indianapolis, and Pitttsburgh will have NYC listed as the parents, and the rest will be listed as none. "
   ]
  },
  {
   "cell_type": "code",
   "execution_count": 18,
   "metadata": {},
   "outputs": [],
   "source": [
    "parents = {}\n",
    "\n",
    "parents['DC'] = \"NYC\"\n",
    "parents['Atlanta'] = None\n",
    "parents['New Orleans'] = None\n",
    "parents['Dallas'] = None\n",
    "parents['Indianapolis'] = \"NYC\"\n",
    "parents['Kansas City'] = None\n",
    "parents['Denver'] = None\n",
    "parents['Pittsburgh'] = \"NYC\"\n",
    "parents['Cincinatti'] = None\n",
    "parents['St Louis'] = None\n",
    "parents['OK City'] = None\n",
    "parents['Alburqurque'] = None\n",
    "parents['Salt Lake City'] = None\n",
    "parents['Phoenix'] = None\n",
    "parents['Las Vegas'] = None\n",
    "parents['San Diego'] = None\n",
    "parents['Los Angeles'] = None\n",
    "\n",
    "processed = []"
   ]
  },
  {
   "cell_type": "markdown",
   "metadata": {},
   "source": [
    "First, use the breadth-first algorithm to find the quickest way to get to L.A from NYC and calculate the time that it will take to get to L.A. from NYC using the breadth first algorithm.  (Even though BFS does not use weighted edges, we will indirectly use them to calculate the time of the route)."
   ]
  },
  {
   "cell_type": "code",
   "execution_count": 20,
   "metadata": {},
   "outputs": [
    {
     "name": "stdout",
     "output_type": "stream",
     "text": [
      "Here's your route:\n",
      "The shortest route is:\n",
      "['NYC', 'Indianapolis', 'Kansas City', 'Denver', 'Salt Lake City', 'Las Vegas', 'Los Angeles']\n",
      "The shortest route will take:\n",
      "46 hours\n"
     ]
    }
   ],
   "source": [
    "def BFS(graph, start, finish):\n",
    "    # keep track of processed nodes\n",
    "    processed = []\n",
    "    # keep track of all the paths to be checked\n",
    "    queue = [[start]]\n",
    " \n",
    "    # return path if start is goal\n",
    "    if start == finish:\n",
    "        return \"You're already there!\"\n",
    " \n",
    "    # We need to check all possible paths\n",
    "    while queue:\n",
    "        # Take the first path\n",
    "        path = queue.pop(0)\n",
    "        # Find the last possible destination on this path\n",
    "        node = path[-1]\n",
    "        if node not in processed:\n",
    "            neighbors = graph[node]\n",
    "            # go through all neighbor nodes, make a new path and\n",
    "            # push it into the queue\n",
    "            for neighbor in neighbors:\n",
    "                newPath = list(path)\n",
    "                newPath.append(neighbor)\n",
    "                queue.append(newPath)\n",
    "                # return path if neighbour is goal\n",
    "                if neighbor == finish:\n",
    "                    print(\"Here's your route:\")\n",
    "                    return newPath\n",
    " \n",
    "            # mark node as processed\n",
    "            processed.append(node)\n",
    " \n",
    "    # in case there's no path between the 2 nodes\n",
    "    return \"There's no way to get there!\"\n",
    " \n",
    "bfsPath = BFS(graph, 'NYC', 'Los Angeles')  \n",
    "print(\"The shortest route is:\")\n",
    "print(bfsPath)\n",
    "\n",
    "# Capturing the travel time\n",
    "\n",
    "bfsCost = 0\n",
    "bfsCost += (graph['NYC']['Indianapolis'] + graph['Indianapolis']['Kansas City']\n",
    "            + graph['Kansas City']['Denver'] + graph['Denver']['Salt Lake City']\n",
    "            + graph['Salt Lake City']['Las Vegas'] + graph['Las Vegas']['Los Angeles'])\n",
    "\n",
    "\n",
    "print(\"The shortest route will take:\")\n",
    "print('%s hours' % bfsCost)"
   ]
  },
  {
   "cell_type": "markdown",
   "metadata": {},
   "source": [
    "Next, use Dijkstra's algorithm to find the most optimal route to get to L.A from NYC, capture the time that it will take to get to L.A (use the weights in the algorithm assigned to the routes)."
   ]
  },
  {
   "cell_type": "code",
   "execution_count": 21,
   "metadata": {},
   "outputs": [
    {
     "name": "stdout",
     "output_type": "stream",
     "text": [
      "The cheapest route is:\n",
      "['NYC', 'DC', 'Atlanta', 'New Orleans', 'Dallas', 'Alburqurque', 'Phoenix', 'Las Vegas', 'San Diego', 'Los Angeles']\n",
      "The cheapest route will take:\n",
      "18 hours\n"
     ]
    }
   ],
   "source": [
    "def findLowestCostNode(costs):\n",
    "    lowestCost = float(\"inf\")\n",
    "    lowestCostNode = None\n",
    "    for node in costs:\n",
    "        cost = costs[node]\n",
    "        if cost < lowestCost and node not in processed:\n",
    "            lowestCost = cost\n",
    "            lowestCostNode = node\n",
    "    return lowestCostNode\n",
    "\n",
    "    \n",
    "node = findLowestCostNode(costs) # Find lowest cost, unprocessed node\n",
    "while node is not None: # While loop ends when all nodes have been processed\n",
    "    cost = costs[node]\n",
    "    neighbors = graph[node]\n",
    "    for n in neighbors.keys(): # Go through all neighors of node in question\n",
    "        newCost = cost + neighbors[n] # Find cost to get to node through neighbor\n",
    "        if costs[n] > newCost: # If it is cheaper this way\n",
    "            costs[n] = newCost # update the cost to reflect this\n",
    "            parents[n] = node # This node is now the parent of the neighbor\n",
    "    processed.append(node) # mark the node as processed\n",
    "    node = findLowestCostNode(costs) # Process the next node and loop\n",
    "    \n",
    "city = [\"Los Angeles\"]\n",
    "cheapRoute = []\n",
    "city.append(parents.get(\"Los Angeles\"))\n",
    "cheapRoute = list(city)\n",
    "\n",
    "value = []\n",
    "\n",
    "while value is not None:\n",
    "    value = parents.get(city.pop())\n",
    "    city.append(value)\n",
    "    cheapRoute.append(value)\n",
    "\n",
    "cheapRoute.remove(None)\n",
    "cheapRoute.reverse()\n",
    "\n",
    "print(\"The cheapest route is:\")\n",
    "print(cheapRoute)\n",
    "\n",
    "for city in cheapRoute:\n",
    "    cheapCost =  costs.get(city)\n",
    "    \n",
    "\n",
    "print(\"The cheapest route will take:\")\n",
    "print('%s hours' % cheapCost)"
   ]
  },
  {
   "cell_type": "code",
   "execution_count": 22,
   "metadata": {},
   "outputs": [
    {
     "data": {
      "image/png": "[encoded data removed]",
      "text/plain": [
       "<Figure size 432x288 with 1 Axes>"
      ]
     },
     "metadata": {
      "needs_background": "light"
     },
     "output_type": "display_data"
    }
   ],
   "source": [
    "plt.bar([\"Breadth-First Search\", \"Dijkstra's\"], [bfsCost, cheapCost])\n",
    "plt.ylabel(\"Hours to Drive Route\")\n",
    "plt.suptitle(\"Comparing Shortest Path Algorithms\")\n",
    "plt.title(\"Breadth-First vs Dijkstra's Algorithm\")\n",
    "\n",
    "plt.show()"
   ]
  },
  {
   "cell_type": "code",
   "execution_count": 23,
   "metadata": {},
   "outputs": [
    {
     "data": {
      "image/png": "[encoded data removed]",
      "text/plain": [
       "<Figure size 432x288 with 1 Axes>"
      ]
     },
     "metadata": {
      "needs_background": "light"
     },
     "output_type": "display_data"
    }
   ],
   "source": [
    "plt.bar([\"Breadth-First Search\", \"Dijkstra's\"], [len(bfsPath)-2, len(cheapRoute)-2])\n",
    "plt.ylabel(\"Number of Intraroute Cities\")\n",
    "plt.suptitle(\"Comparing Shortest Path Algorithms\")\n",
    "plt.title(\"Breadth-First vs Dijkstra's Algorithm\")\n",
    "plt.show()"
   ]
  },
  {
   "cell_type": "markdown",
   "metadata": {},
   "source": [
    "Executive Summary\n",
    "\n",
    "In the above exercise, we tested out a Breadth-First algorithm versus a search using Dijkstra's algorithm. Both algorithms have their use and perform well for them. Breadth-First could not account for edge weights, but this algorithm produced shorter paths with less nodes. The Djisktra algorithm could account for edge weights, and because of this the Djisktra algorithm solved the path with the less amount of drive-time (18 hours vs 46 hours). In other words, we recommend that Management use a breadth-first algorithm if weighting does not matter and if finding the path with the smallest number of steps is important. However if weighting is involved, then using Djisktra's algorithm would be better."
   ]
  }
 ],
 "metadata": {
  "kernelspec": {
   "display_name": "Python 3",
   "language": "python",
   "name": "python3"
  },
  "language_info": {
   "codemirror_mode": {
    "name": "ipython",
    "version": 3
   },
   "file_extension": ".py",
   "mimetype": "text/x-python",
   "name": "python",
   "nbconvert_exporter": "python",
   "pygments_lexer": "ipython3",
   "version": "3.7.6"
  }
 },
 "nbformat": 4,
 "nbformat_minor": 4
}
